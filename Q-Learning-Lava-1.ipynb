{
 "cells": [
  {
   "cell_type": "code",
   "execution_count": 1,
   "id": "150881b2",
   "metadata": {
    "scrolled": true
   },
   "outputs": [
    {
     "name": "stderr",
     "output_type": "stream",
     "text": [
      "\n"
     ]
    }
   ],
   "source": [
    "import numpy as np\n",
    "import os\n",
    "import pandas as pd\n",
    "import random\n",
    "from collections import defaultdict\n",
    "import gym\n",
    "import gym_minigrid\n",
    "import matplotlib.pyplot as plt\n",
    "%matplotlib inline"
   ]
  },
  {
   "cell_type": "code",
   "execution_count": 2,
   "id": "bb3475c0",
   "metadata": {
    "scrolled": true
   },
   "outputs": [],
   "source": [
    "class QLearning:\n",
    "    def __init__(self, actions, agent_indicator=10):\n",
    "        self.actions = actions\n",
    "        self.agent_indicator = agent_indicator\n",
    "        self.alpha = 0.01\n",
    "        self.gamma = 0.9\n",
    "        self.epsilon = 0.2\n",
    "        self.q_values = defaultdict(lambda: [0.0] * actions)\n",
    "        \n",
    "    def _convert_state(self, s):\n",
    "        return np.where(s == self.agent_indicator)[0][0]\n",
    "        \n",
    "    def update(self, state, action, reward, next_state, next_action):\n",
    "        state = self._convert_state(state)\n",
    "        next_state = self._convert_state(next_state)\n",
    "        \n",
    "        q_value = self.q_values[state][action]\n",
    "\n",
    "        ################## write code ################################\n",
    "        next_q_value = max(self.q_values[next_state])\n",
    "        \n",
    "        td_error = reward + self.gamma * next_q_value - q_value\n",
    "        self.q_values[state][action] = q_value + self.alpha * td_error\n",
    "        ##############################################################\n",
    "    \n",
    "    def act(self, state):\n",
    "        if np.random.rand() < self.epsilon:\n",
    "            action = np.random.choice(self.actions)\n",
    "        else:\n",
    "            state = self._convert_state(state)\n",
    "            q_values = self.q_values[state]\n",
    "            action = np.argmax(q_values)\n",
    "        return action"
   ]
  },
  {
   "cell_type": "code",
   "execution_count": 3,
   "id": "90706d6e",
   "metadata": {
    "scrolled": true
   },
   "outputs": [],
   "source": [
    "from utils import gen_wrapped_env, show_video"
   ]
  },
  {
   "cell_type": "code",
   "execution_count": 4,
   "id": "d048dbff",
   "metadata": {
    "scrolled": true
   },
   "outputs": [],
   "source": [
    "env = gen_wrapped_env('MiniGrid-LavaCrossingS9N1-v0')\n",
    "\n",
    "obs = env.reset()\n",
    "\n",
    "agent_position = obs[0]\n",
    "\n",
    "agent = QLearning(3, agent_position)"
   ]
  },
  {
   "cell_type": "markdown",
   "id": "e79aa8d2-fca8-4b2e-8127-d4c0469c52d1",
   "metadata": {},
   "source": [
    "## For Q-Learning\n",
    "+ Q-learning update"
   ]
  },
  {
   "cell_type": "code",
   "execution_count": 5,
   "id": "f7e8c55c",
   "metadata": {
    "scrolled": true
   },
   "outputs": [
    {
     "name": "stdout",
     "output_type": "stream",
     "text": [
      "episode: 20, rewards: 0\n",
      "episode: 40, rewards: 0\n",
      "episode: 60, rewards: 0\n",
      "episode: 80, rewards: 0\n",
      "episode: 100, rewards: 0\n",
      "episode: 120, rewards: 0\n",
      "episode: 140, rewards: 0\n",
      "episode: 160, rewards: 0\n",
      "episode: 180, rewards: 0\n",
      "episode: 200, rewards: 0\n",
      "episode: 220, rewards: 0\n",
      "episode: 240, rewards: 0\n",
      "episode: 260, rewards: 0\n",
      "episode: 280, rewards: 0\n",
      "episode: 300, rewards: 0\n",
      "episode: 320, rewards: 0\n",
      "episode: 340, rewards: 0\n",
      "episode: 360, rewards: 0\n",
      "episode: 380, rewards: 0\n",
      "episode: 400, rewards: 0\n",
      "episode: 420, rewards: 0\n",
      "episode: 440, rewards: 0\n",
      "episode: 460, rewards: 0\n",
      "episode: 480, rewards: 0\n",
      "episode: 500, rewards: 0\n",
      "episode: 520, rewards: 0\n",
      "episode: 540, rewards: 0\n",
      "episode: 560, rewards: 0\n",
      "episode: 580, rewards: 0\n",
      "episode: 600, rewards: 0\n",
      "episode: 620, rewards: 0\n",
      "episode: 640, rewards: 0\n",
      "episode: 660, rewards: 0\n",
      "episode: 680, rewards: 0\n",
      "episode: 700, rewards: 0\n",
      "episode: 720, rewards: 0\n",
      "episode: 740, rewards: 0\n",
      "episode: 760, rewards: 0\n",
      "episode: 780, rewards: 0\n",
      "episode: 800, rewards: 0\n",
      "episode: 820, rewards: 0\n",
      "episode: 840, rewards: 0\n",
      "episode: 860, rewards: 0\n",
      "episode: 880, rewards: 0\n",
      "episode: 900, rewards: 0\n",
      "episode: 920, rewards: 0\n",
      "episode: 940, rewards: 0\n",
      "episode: 960, rewards: 0\n",
      "episode: 980, rewards: 0\n",
      "episode: 1000, rewards: 0\n",
      "episode: 1020, rewards: 0\n",
      "episode: 1040, rewards: 0\n",
      "episode: 1060, rewards: 0\n",
      "episode: 1080, rewards: 0\n",
      "episode: 1100, rewards: 0\n",
      "episode: 1120, rewards: 0\n",
      "episode: 1140, rewards: 0\n",
      "episode: 1160, rewards: 0\n",
      "episode: 1180, rewards: 0\n",
      "episode: 1200, rewards: 0\n",
      "episode: 1220, rewards: 0\n",
      "episode: 1240, rewards: 0\n",
      "episode: 1260, rewards: 0\n",
      "episode: 1280, rewards: 0\n",
      "episode: 1300, rewards: 0\n",
      "episode: 1320, rewards: 0\n",
      "episode: 1340, rewards: 0\n",
      "episode: 1360, rewards: 0\n",
      "episode: 1380, rewards: 0\n",
      "episode: 1400, rewards: 0\n",
      "episode: 1420, rewards: 0\n",
      "episode: 1440, rewards: 0\n",
      "episode: 1460, rewards: 0\n",
      "episode: 1480, rewards: 0\n",
      "episode: 1500, rewards: 0\n",
      "episode: 1520, rewards: 0\n",
      "episode: 1540, rewards: 0\n",
      "episode: 1560, rewards: 0\n",
      "episode: 1580, rewards: 0\n",
      "episode: 1600, rewards: 0\n",
      "episode: 1620, rewards: 0\n",
      "episode: 1640, rewards: 0\n",
      "episode: 1660, rewards: 0\n",
      "episode: 1680, rewards: 0\n",
      "episode: 1700, rewards: 0\n",
      "episode: 1720, rewards: 0\n",
      "episode: 1740, rewards: 0\n",
      "episode: 1760, rewards: 0\n",
      "episode: 1780, rewards: 0\n",
      "episode: 1800, rewards: 0\n",
      "episode: 1820, rewards: 0\n",
      "episode: 1840, rewards: 0\n",
      "episode: 1860, rewards: 0\n",
      "episode: 1880, rewards: 0\n",
      "episode: 1900, rewards: 0\n",
      "episode: 1920, rewards: 0\n",
      "episode: 1940, rewards: 0\n",
      "episode: 1960, rewards: 0\n",
      "episode: 1980, rewards: 0\n",
      "episode: 2000, rewards: 0\n",
      "episode: 2020, rewards: 0\n",
      "episode: 2040, rewards: 0\n",
      "episode: 2060, rewards: 0\n",
      "episode: 2080, rewards: 0\n",
      "episode: 2100, rewards: 0\n",
      "episode: 2120, rewards: 0\n",
      "episode: 2140, rewards: 0\n",
      "episode: 2160, rewards: 0\n",
      "episode: 2180, rewards: 0\n",
      "episode: 2200, rewards: 0\n",
      "episode: 2220, rewards: 0\n",
      "episode: 2240, rewards: 0\n",
      "episode: 2260, rewards: 0\n",
      "episode: 2280, rewards: 0\n",
      "episode: 2300, rewards: 0\n",
      "episode: 2320, rewards: 0\n",
      "episode: 2340, rewards: 0\n",
      "episode: 2360, rewards: 0\n",
      "episode: 2380, rewards: 0\n",
      "episode: 2400, rewards: 0\n",
      "episode: 2420, rewards: 0\n",
      "episode: 2440, rewards: 0\n",
      "episode: 2460, rewards: 0\n",
      "episode: 2480, rewards: 0\n",
      "episode: 2500, rewards: 0\n",
      "episode: 2520, rewards: 0\n",
      "episode: 2540, rewards: 0\n",
      "episode: 2560, rewards: 0\n",
      "episode: 2580, rewards: 0\n",
      "episode: 2600, rewards: 0\n",
      "episode: 2620, rewards: 0\n",
      "episode: 2640, rewards: 0\n",
      "episode: 2660, rewards: 0\n",
      "episode: 2680, rewards: 0\n",
      "episode: 2700, rewards: 0\n",
      "episode: 2720, rewards: 0\n",
      "episode: 2740, rewards: 0\n",
      "episode: 2760, rewards: 0\n",
      "episode: 2780, rewards: 0\n",
      "episode: 2800, rewards: 0\n",
      "episode: 2820, rewards: 0\n",
      "episode: 2840, rewards: 0\n",
      "episode: 2860, rewards: 0\n",
      "episode: 2880, rewards: 0\n",
      "episode: 2900, rewards: 0\n",
      "episode: 2920, rewards: 0\n",
      "episode: 2940, rewards: 0\n",
      "episode: 2960, rewards: 0\n",
      "episode: 2980, rewards: 0\n",
      "episode: 3000, rewards: 0\n",
      "episode: 3020, rewards: 0\n",
      "episode: 3040, rewards: 0\n",
      "episode: 3060, rewards: 0\n",
      "episode: 3080, rewards: 0\n",
      "episode: 3100, rewards: 0\n",
      "episode: 3120, rewards: 0\n",
      "episode: 3140, rewards: 0\n",
      "episode: 3160, rewards: 0\n",
      "episode: 3180, rewards: 0\n",
      "episode: 3200, rewards: 0\n",
      "episode: 3220, rewards: 0\n",
      "episode: 3240, rewards: 0\n",
      "episode: 3260, rewards: 0\n",
      "episode: 3280, rewards: 0\n",
      "episode: 3300, rewards: 0\n",
      "episode: 3320, rewards: 0\n",
      "episode: 3340, rewards: 0\n",
      "episode: 3360, rewards: 0\n",
      "episode: 3380, rewards: 0\n",
      "episode: 3400, rewards: 0\n",
      "episode: 3420, rewards: 0\n",
      "episode: 3440, rewards: 0\n",
      "episode: 3460, rewards: 0\n",
      "episode: 3480, rewards: 0\n",
      "episode: 3500, rewards: 0\n",
      "episode: 3520, rewards: 0\n",
      "episode: 3540, rewards: 0\n",
      "episode: 3560, rewards: 0\n",
      "episode: 3580, rewards: 0\n",
      "episode: 3600, rewards: 0\n",
      "episode: 3620, rewards: 0\n",
      "episode: 3640, rewards: 0\n",
      "episode: 3660, rewards: 0\n",
      "episode: 3680, rewards: 0\n",
      "episode: 3700, rewards: 0\n",
      "episode: 3720, rewards: 0\n",
      "episode: 3740, rewards: 0\n",
      "episode: 3760, rewards: 0\n",
      "episode: 3780, rewards: 0\n",
      "episode: 3800, rewards: 0\n",
      "episode: 3820, rewards: 0\n",
      "episode: 3840, rewards: 0\n",
      "episode: 3860, rewards: 0\n",
      "episode: 3880, rewards: 0\n",
      "episode: 3900, rewards: 0\n",
      "episode: 3920, rewards: 0\n",
      "episode: 3940, rewards: 0\n",
      "episode: 3960, rewards: 0\n",
      "episode: 3980, rewards: 0\n",
      "episode: 4000, rewards: 0\n",
      "episode: 4020, rewards: 0\n",
      "episode: 4040, rewards: 0\n",
      "episode: 4060, rewards: 0\n",
      "episode: 4080, rewards: 0\n",
      "episode: 4100, rewards: 0\n",
      "episode: 4120, rewards: 0\n",
      "episode: 4140, rewards: 0\n",
      "episode: 4160, rewards: 0\n",
      "episode: 4180, rewards: 0\n",
      "episode: 4200, rewards: 0\n",
      "episode: 4220, rewards: 0\n",
      "episode: 4240, rewards: 0\n",
      "episode: 4260, rewards: 0\n",
      "episode: 4280, rewards: 0\n",
      "episode: 4300, rewards: 0\n",
      "episode: 4320, rewards: 0\n",
      "episode: 4340, rewards: 0\n",
      "episode: 4360, rewards: 0\n",
      "episode: 4380, rewards: 0\n",
      "episode: 4400, rewards: 0\n",
      "episode: 4420, rewards: 0\n",
      "episode: 4440, rewards: 0\n",
      "episode: 4460, rewards: 0\n",
      "episode: 4480, rewards: 0\n",
      "episode: 4500, rewards: 0\n",
      "episode: 4520, rewards: 0\n",
      "episode: 4540, rewards: 0\n",
      "episode: 4560, rewards: 0\n",
      "episode: 4580, rewards: 0\n",
      "episode: 4600, rewards: 0\n",
      "episode: 4620, rewards: 0\n",
      "episode: 4640, rewards: 0\n",
      "episode: 4660, rewards: 0\n",
      "episode: 4680, rewards: 0\n",
      "episode: 4700, rewards: 0\n",
      "episode: 4720, rewards: 0\n",
      "episode: 4740, rewards: 0\n",
      "episode: 4760, rewards: 0\n",
      "episode: 4780, rewards: 0\n",
      "episode: 4800, rewards: 0\n",
      "episode: 4820, rewards: 0\n",
      "episode: 4840, rewards: 0\n",
      "episode: 4860, rewards: 0\n",
      "episode: 4880, rewards: 0\n",
      "episode: 4900, rewards: 0\n",
      "episode: 4920, rewards: 0\n",
      "episode: 4940, rewards: 0\n",
      "episode: 4960, rewards: 0\n",
      "episode: 4980, rewards: 0\n",
      "episode: 5000, rewards: 0\n"
     ]
    }
   ],
   "source": [
    "rewards = []\n",
    "for ep in range(5000):\n",
    "    done = False\n",
    "    obs = env.reset()\n",
    "    action = agent.act(obs)\n",
    "    \n",
    "    ep_rewards = 0\n",
    "    while not done:\n",
    "        next_obs, reward, done, info = env.step(action)\n",
    "\n",
    "        next_action = agent.act(next_obs)\n",
    "\n",
    "        agent.update(obs, action, reward, next_obs, next_action)\n",
    "        \n",
    "        ep_rewards += reward\n",
    "        obs = next_obs\n",
    "        action = next_action\n",
    "    rewards.append(ep_rewards)\n",
    "    if (ep+1) % 20 == 0:\n",
    "        print(\"episode: {}, rewards: {}\".format(ep+1, ep_rewards))\n",
    "env.close()"
   ]
  },
  {
   "cell_type": "code",
   "execution_count": 6,
   "id": "a086e2cd",
   "metadata": {},
   "outputs": [
    {
     "data": {
      "text/plain": [
       "{0: [0.0, 0.0, 0.0],\n",
       " 21: [0.0, 0.0, 0.0],\n",
       " 24: [0.0, 0.0, 0.0],\n",
       " 45: [0.0, 0.0, 0.0],\n",
       " 3: [0.0, 0.0, 0.0],\n",
       " 6: [0.0, 0.0, 0.0],\n",
       " 27: [0.0, 0.0, 0.0],\n",
       " 42: [0.0, 0.0, 0.0],\n",
       " 63: [0.0, 0.0, 0.0],\n",
       " 66: [0.0, 0.0, 0.0],\n",
       " 69: [0.0, 0.0, 0.0],\n",
       " 48: [0.0, 0.0, 0.0],\n",
       " 84: [0.0, 0.0, 0.0],\n",
       " 87: [0.0, 0.0, 0.0],\n",
       " 9: [0.0, 0.0, 0.0],\n",
       " 12: [0.0, 0.0, 0.0],\n",
       " 33: [0.0, 0.0, 0.0],\n",
       " 36: [0.0, 0.0, 0.0],\n",
       " 30: [0.0, 0.0, 0.0],\n",
       " 105: [0.0, 0.0, 0.0],\n",
       " 51: [0.0, 0.0, 0.0],\n",
       " 54: [0.0, 0.0, 0.0],\n",
       " 57: [0.0, 0.0, 0.0],\n",
       " 90: [0.0, 0.0, 0.0],\n",
       " 111: [0.0, 0.0, 0.0],\n",
       " 72: [0.0, 0.0, 0.0],\n",
       " 15: [0.0, 0.0, 0.0],\n",
       " 108: [0.0, 0.0, 0.0]}"
      ]
     },
     "execution_count": 6,
     "metadata": {},
     "output_type": "execute_result"
    }
   ],
   "source": [
    "{s:np.round(q, 5).tolist() for s, q in agent.q_values.items()}"
   ]
  },
  {
   "cell_type": "code",
   "execution_count": 7,
   "id": "77e3015b",
   "metadata": {},
   "outputs": [
    {
     "data": {
      "text/html": [
       "<video alt=\"test\" autoplay \n",
       "                loop controls style=\"height: 400px;\">\n",
       "                <source src=\"data:video/mp4;base64,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\" type=\"video/mp4\" />\n",
       "             </video>"
      ],
      "text/plain": [
       "<IPython.core.display.HTML object>"
      ]
     },
     "metadata": {},
     "output_type": "display_data"
    }
   ],
   "source": [
    "show_video()"
   ]
  },
  {
   "cell_type": "code",
   "execution_count": 8,
   "id": "42787cff",
   "metadata": {},
   "outputs": [],
   "source": [
    "os.makedirs('./logs', exist_ok=True)\n",
    "pd.Series(rewards).to_csv('./logs/rewards_qlearning_lava_1.csv')"
   ]
  },
  {
   "cell_type": "code",
   "execution_count": 9,
   "id": "da141489",
   "metadata": {},
   "outputs": [],
   "source": [
    "sarsa_logs = pd.read_csv('./logs/rewards_sarsa_lava_1.csv', index_col=False).iloc[:, 1]\n",
    "q_logs = pd.read_csv('./logs/rewards_qlearning_lava_1.csv', index_col=False).iloc[:, 1]"
   ]
  },
  {
   "cell_type": "code",
   "execution_count": 10,
   "id": "43dc92ab",
   "metadata": {},
   "outputs": [
    {
     "data": {
      "text/plain": [
       "<matplotlib.legend.Legend at 0x7feec352ba00>"
      ]
     },
     "execution_count": 10,
     "metadata": {},
     "output_type": "execute_result"
    },
    {
     "data": {
      "image/png": "[encoded data removed]",
      "text/plain": [
       "<Figure size 1600x800 with 1 Axes>"
      ]
     },
     "metadata": {},
     "output_type": "display_data"
    }
   ],
   "source": [
    "plt.figure(figsize=(16, 8))\n",
    "plt.plot(q_logs.cumsum() / (pd.Series(np.arange(q_logs.shape[0]))+1), label=\"QLearning\")\n",
    "plt.plot(sarsa_logs.cumsum() / (pd.Series(np.arange(sarsa_logs.shape[0]))+1), label=\"SARSA\")\n",
    "plt.legend()"
   ]
  },
  {
   "cell_type": "code",
   "execution_count": null,
   "id": "69d2dad1",
   "metadata": {},
   "outputs": [],
   "source": []
  },
  {
   "cell_type": "code",
   "execution_count": null,
   "id": "a1ab15f2",
   "metadata": {},
   "outputs": [],
   "source": []
  }
 ],
 "metadata": {
  "kernelspec": {
   "display_name": ".venv",
   "language": "python",
   "name": "python3"
  },
  "language_info": {
   "codemirror_mode": {
    "name": "ipython",
    "version": 3
   },
   "file_extension": ".py",
   "mimetype": "text/x-python",
   "name": "python",
   "nbconvert_exporter": "python",
   "pygments_lexer": "ipython3",
   "version": "3.10.15"
  }
 },
 "nbformat": 4,
 "nbformat_minor": 5
}
