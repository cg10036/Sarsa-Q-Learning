{
 "cells": [
  {
   "cell_type": "code",
   "execution_count": 1,
   "id": "150881b2",
   "metadata": {
    "scrolled": true
   },
   "outputs": [
    {
     "name": "stderr",
     "output_type": "stream",
     "text": [
      "\n"
     ]
    }
   ],
   "source": [
    "import numpy as np\n",
    "import os\n",
    "import pandas as pd\n",
    "import random\n",
    "from collections import defaultdict\n",
    "import gym\n",
    "import gym_minigrid\n",
    "import matplotlib.pyplot as plt\n",
    "%matplotlib inline"
   ]
  },
  {
   "cell_type": "code",
   "execution_count": 2,
   "id": "bb3475c0",
   "metadata": {
    "scrolled": true
   },
   "outputs": [],
   "source": [
    "class QLearning:\n",
    "    def __init__(self, actions, agent_indicator=10):\n",
    "        self.actions = actions\n",
    "        self.agent_indicator = agent_indicator\n",
    "        self.alpha = 0.01\n",
    "        self.gamma = 0.9\n",
    "        self.epsilon = 0.2\n",
    "        self.q_values = defaultdict(lambda: [0.0] * actions)\n",
    "        \n",
    "    def _convert_state(self, s):\n",
    "        return np.where(s == self.agent_indicator)[0][0]\n",
    "        \n",
    "    def update(self, state, action, reward, next_state, next_action):\n",
    "        state = self._convert_state(state)\n",
    "        next_state = self._convert_state(next_state)\n",
    "        \n",
    "        q_value = self.q_values[state][action]\n",
    "\n",
    "        ################## write code ################################\n",
    "        next_q_value = max(self.q_values[next_state])\n",
    "        \n",
    "        td_error = reward + self.gamma * next_q_value - q_value\n",
    "        self.q_values[state][action] = q_value + self.alpha * td_error\n",
    "        ##############################################################\n",
    "    \n",
    "    def act(self, state):\n",
    "        if np.random.rand() < self.epsilon:\n",
    "            action = np.random.choice(self.actions)\n",
    "        else:\n",
    "            state = self._convert_state(state)\n",
    "            q_values = self.q_values[state]\n",
    "            action = np.argmax(q_values)\n",
    "        return action"
   ]
  },
  {
   "cell_type": "code",
   "execution_count": 3,
   "id": "90706d6e",
   "metadata": {
    "scrolled": true
   },
   "outputs": [],
   "source": [
    "from utils import gen_wrapped_env, show_video"
   ]
  },
  {
   "cell_type": "code",
   "execution_count": 4,
   "id": "d048dbff",
   "metadata": {
    "scrolled": true
   },
   "outputs": [],
   "source": [
    "env = gen_wrapped_env('MiniGrid-Empty-6x6-v0')\n",
    "\n",
    "obs = env.reset()\n",
    "\n",
    "agent_position = obs[0]\n",
    "\n",
    "agent = QLearning(3, agent_position)"
   ]
  },
  {
   "cell_type": "markdown",
   "id": "e79aa8d2-fca8-4b2e-8127-d4c0469c52d1",
   "metadata": {},
   "source": [
    "## For Q-Learning\n",
    "+ Q-learning update"
   ]
  },
  {
   "cell_type": "code",
   "execution_count": 5,
   "id": "f7e8c55c",
   "metadata": {
    "scrolled": true
   },
   "outputs": [
    {
     "name": "stdout",
     "output_type": "stream",
     "text": [
      "episode: 20, rewards: 0\n",
      "episode: 40, rewards: 0\n",
      "episode: 60, rewards: 0\n",
      "episode: 80, rewards: 0\n",
      "episode: 100, rewards: 0\n",
      "episode: 120, rewards: 0.20799999999999996\n",
      "episode: 140, rewards: 0.2799999999999999\n",
      "episode: 160, rewards: 0.2799999999999999\n",
      "episode: 180, rewards: 0.82\n",
      "episode: 200, rewards: 0\n",
      "episode: 220, rewards: 0\n",
      "episode: 240, rewards: 0\n",
      "episode: 260, rewards: 0.874\n",
      "episode: 280, rewards: 0.856\n",
      "episode: 300, rewards: 0\n",
      "episode: 320, rewards: 0.622\n",
      "episode: 340, rewards: 0.6579999999999999\n",
      "episode: 360, rewards: 0\n",
      "episode: 380, rewards: 0.31599999999999995\n",
      "episode: 400, rewards: 0.4059999999999999\n",
      "episode: 420, rewards: 0.838\n",
      "episode: 440, rewards: 0\n",
      "episode: 460, rewards: 0.18999999999999995\n",
      "episode: 480, rewards: 0\n",
      "episode: 500, rewards: 0.2799999999999999\n",
      "episode: 520, rewards: 0.784\n",
      "episode: 540, rewards: 0.748\n",
      "episode: 560, rewards: 0.712\n",
      "episode: 580, rewards: 0.73\n",
      "episode: 600, rewards: 0.6759999999999999\n",
      "episode: 620, rewards: 0.6759999999999999\n",
      "episode: 640, rewards: 0\n",
      "episode: 660, rewards: 0\n",
      "episode: 680, rewards: 0\n",
      "episode: 700, rewards: 0.856\n",
      "episode: 720, rewards: 0.73\n",
      "episode: 740, rewards: 0.586\n",
      "episode: 760, rewards: 0.748\n",
      "episode: 780, rewards: 0\n",
      "episode: 800, rewards: 0.82\n",
      "episode: 820, rewards: 0\n",
      "episode: 840, rewards: 0\n",
      "episode: 860, rewards: 0\n",
      "episode: 880, rewards: 0.55\n",
      "episode: 900, rewards: 0\n",
      "episode: 920, rewards: 0.18999999999999995\n",
      "episode: 940, rewards: 0\n",
      "episode: 960, rewards: 0.45999999999999996\n",
      "episode: 980, rewards: 0.2799999999999999\n",
      "episode: 1000, rewards: 0\n",
      "episode: 1020, rewards: 0.874\n",
      "episode: 1040, rewards: 0\n",
      "episode: 1060, rewards: 0.262\n",
      "episode: 1080, rewards: 0\n",
      "episode: 1100, rewards: 0\n",
      "episode: 1120, rewards: 0\n",
      "episode: 1140, rewards: 0\n",
      "episode: 1160, rewards: 0\n",
      "episode: 1180, rewards: 0.44199999999999995\n",
      "episode: 1200, rewards: 0.42399999999999993\n",
      "episode: 1220, rewards: 0.748\n",
      "episode: 1240, rewards: 0.6399999999999999\n",
      "episode: 1260, rewards: 0\n",
      "episode: 1280, rewards: 0.478\n",
      "episode: 1300, rewards: 0.802\n",
      "episode: 1320, rewards: 0.802\n",
      "episode: 1340, rewards: 0.33399999999999996\n",
      "episode: 1360, rewards: 0\n",
      "episode: 1380, rewards: 0.6399999999999999\n",
      "episode: 1400, rewards: 0\n",
      "episode: 1420, rewards: 0\n",
      "episode: 1440, rewards: 0.802\n",
      "episode: 1460, rewards: 0\n",
      "episode: 1480, rewards: 0.802\n",
      "episode: 1500, rewards: 0.5680000000000001\n",
      "episode: 1520, rewards: 0.244\n",
      "episode: 1540, rewards: 0\n",
      "episode: 1560, rewards: 0\n",
      "episode: 1580, rewards: 0.622\n",
      "episode: 1600, rewards: 0.6579999999999999\n",
      "episode: 1620, rewards: 0\n",
      "episode: 1640, rewards: 0.6759999999999999\n",
      "episode: 1660, rewards: 0\n",
      "episode: 1680, rewards: 0.874\n",
      "episode: 1700, rewards: 0.874\n",
      "episode: 1720, rewards: 0.20799999999999996\n",
      "episode: 1740, rewards: 0.694\n",
      "episode: 1760, rewards: 0.73\n",
      "episode: 1780, rewards: 0\n",
      "episode: 1800, rewards: 0.2799999999999999\n",
      "episode: 1820, rewards: 0\n",
      "episode: 1840, rewards: 0.262\n",
      "episode: 1860, rewards: 0.262\n",
      "episode: 1880, rewards: 0.694\n",
      "episode: 1900, rewards: 0\n",
      "episode: 1920, rewards: 0\n",
      "episode: 1940, rewards: 0.6759999999999999\n",
      "episode: 1960, rewards: 0\n",
      "episode: 1980, rewards: 0\n",
      "episode: 2000, rewards: 0.42399999999999993\n",
      "episode: 2020, rewards: 0\n",
      "episode: 2040, rewards: 0\n",
      "episode: 2060, rewards: 0.856\n",
      "episode: 2080, rewards: 0.622\n",
      "episode: 2100, rewards: 0\n",
      "episode: 2120, rewards: 0.82\n",
      "episode: 2140, rewards: 0\n",
      "episode: 2160, rewards: 0\n",
      "episode: 2180, rewards: 0\n",
      "episode: 2200, rewards: 0\n",
      "episode: 2220, rewards: 0.244\n",
      "episode: 2240, rewards: 0.784\n",
      "episode: 2260, rewards: 0.6759999999999999\n",
      "episode: 2280, rewards: 0.838\n",
      "episode: 2300, rewards: 0.802\n",
      "episode: 2320, rewards: 0.6399999999999999\n",
      "episode: 2340, rewards: 0.31599999999999995\n",
      "episode: 2360, rewards: 0.44199999999999995\n",
      "episode: 2380, rewards: 0.6579999999999999\n",
      "episode: 2400, rewards: 0.802\n",
      "episode: 2420, rewards: 0.604\n",
      "episode: 2440, rewards: 0.856\n",
      "episode: 2460, rewards: 0.5680000000000001\n",
      "episode: 2480, rewards: 0\n",
      "episode: 2500, rewards: 0\n",
      "episode: 2520, rewards: 0\n",
      "episode: 2540, rewards: 0\n",
      "episode: 2560, rewards: 0\n",
      "episode: 2580, rewards: 0\n",
      "episode: 2600, rewards: 0.874\n",
      "episode: 2620, rewards: 0\n",
      "episode: 2640, rewards: 0\n",
      "episode: 2660, rewards: 0\n",
      "episode: 2680, rewards: 0.82\n",
      "episode: 2700, rewards: 0\n",
      "episode: 2720, rewards: 0\n",
      "episode: 2740, rewards: 0\n",
      "episode: 2760, rewards: 0\n",
      "episode: 2780, rewards: 0\n",
      "episode: 2800, rewards: 0\n",
      "episode: 2820, rewards: 0.856\n",
      "episode: 2840, rewards: 0\n",
      "episode: 2860, rewards: 0.802\n",
      "episode: 2880, rewards: 0\n",
      "episode: 2900, rewards: 0.784\n",
      "episode: 2920, rewards: 0\n",
      "episode: 2940, rewards: 0.856\n",
      "episode: 2960, rewards: 0.838\n",
      "episode: 2980, rewards: 0.604\n",
      "episode: 3000, rewards: 0.20799999999999996\n",
      "episode: 3020, rewards: 0.532\n",
      "episode: 3040, rewards: 0\n",
      "episode: 3060, rewards: 0.838\n",
      "episode: 3080, rewards: 0.856\n",
      "episode: 3100, rewards: 0.874\n",
      "episode: 3120, rewards: 0.6399999999999999\n",
      "episode: 3140, rewards: 0\n",
      "episode: 3160, rewards: 0\n",
      "episode: 3180, rewards: 0\n",
      "episode: 3200, rewards: 0\n",
      "episode: 3220, rewards: 0.2799999999999999\n",
      "episode: 3240, rewards: 0\n",
      "episode: 3260, rewards: 0\n",
      "episode: 3280, rewards: 0.17199999999999993\n",
      "episode: 3300, rewards: 0.55\n",
      "episode: 3320, rewards: 0.6579999999999999\n",
      "episode: 3340, rewards: 0\n",
      "episode: 3360, rewards: 0.136\n",
      "episode: 3380, rewards: 0\n",
      "episode: 3400, rewards: 0.4059999999999999\n",
      "episode: 3420, rewards: 0.45999999999999996\n",
      "episode: 3440, rewards: 0.20799999999999996\n",
      "episode: 3460, rewards: 0.748\n",
      "episode: 3480, rewards: 0.802\n",
      "episode: 3500, rewards: 0.42399999999999993\n",
      "episode: 3520, rewards: 0\n",
      "episode: 3540, rewards: 0.22599999999999998\n",
      "episode: 3560, rewards: 0.33399999999999996\n",
      "episode: 3580, rewards: 0.33399999999999996\n",
      "episode: 3600, rewards: 0\n",
      "episode: 3620, rewards: 0.766\n",
      "episode: 3640, rewards: 0.352\n",
      "episode: 3660, rewards: 0.802\n",
      "episode: 3680, rewards: 0\n",
      "episode: 3700, rewards: 0.6579999999999999\n",
      "episode: 3720, rewards: 0.748\n",
      "episode: 3740, rewards: 0.6759999999999999\n",
      "episode: 3760, rewards: 0\n",
      "episode: 3780, rewards: 0.352\n",
      "episode: 3800, rewards: 0.802\n",
      "episode: 3820, rewards: 0\n",
      "episode: 3840, rewards: 0\n",
      "episode: 3860, rewards: 0.604\n",
      "episode: 3880, rewards: 0.514\n",
      "episode: 3900, rewards: 0.20799999999999996\n",
      "episode: 3920, rewards: 0\n",
      "episode: 3940, rewards: 0.532\n",
      "episode: 3960, rewards: 0\n",
      "episode: 3980, rewards: 0.766\n",
      "episode: 4000, rewards: 0.856\n",
      "episode: 4020, rewards: 0.874\n",
      "episode: 4040, rewards: 0.45999999999999996\n",
      "episode: 4060, rewards: 0\n",
      "episode: 4080, rewards: 0\n",
      "episode: 4100, rewards: 0\n",
      "episode: 4120, rewards: 0\n",
      "episode: 4140, rewards: 0.532\n",
      "episode: 4160, rewards: 0.838\n",
      "episode: 4180, rewards: 0.748\n",
      "episode: 4200, rewards: 0.352\n",
      "episode: 4220, rewards: 0.802\n",
      "episode: 4240, rewards: 0\n",
      "episode: 4260, rewards: 0\n",
      "episode: 4280, rewards: 0.33399999999999996\n",
      "episode: 4300, rewards: 0\n",
      "episode: 4320, rewards: 0.874\n",
      "episode: 4340, rewards: 0\n",
      "episode: 4360, rewards: 0\n",
      "episode: 4380, rewards: 0.856\n",
      "episode: 4400, rewards: 0.5680000000000001\n",
      "episode: 4420, rewards: 0\n",
      "episode: 4440, rewards: 0\n",
      "episode: 4460, rewards: 0\n",
      "episode: 4480, rewards: 0.766\n",
      "episode: 4500, rewards: 0.2799999999999999\n",
      "episode: 4520, rewards: 0\n",
      "episode: 4540, rewards: 0\n",
      "episode: 4560, rewards: 0\n",
      "episode: 4580, rewards: 0\n",
      "episode: 4600, rewards: 0.44199999999999995\n",
      "episode: 4620, rewards: 0.33399999999999996\n",
      "episode: 4640, rewards: 0.136\n",
      "episode: 4660, rewards: 0.09999999999999998\n",
      "episode: 4680, rewards: 0.6759999999999999\n",
      "episode: 4700, rewards: 0.42399999999999993\n",
      "episode: 4720, rewards: 0.244\n",
      "episode: 4740, rewards: 0\n",
      "episode: 4760, rewards: 0.33399999999999996\n",
      "episode: 4780, rewards: 0.6759999999999999\n",
      "episode: 4800, rewards: 0.712\n",
      "episode: 4820, rewards: 0.784\n",
      "episode: 4840, rewards: 0\n",
      "episode: 4860, rewards: 0.838\n",
      "episode: 4880, rewards: 0.262\n",
      "episode: 4900, rewards: 0\n",
      "episode: 4920, rewards: 0.622\n",
      "episode: 4940, rewards: 0\n",
      "episode: 4960, rewards: 0\n",
      "episode: 4980, rewards: 0.604\n",
      "episode: 5000, rewards: 0.17199999999999993\n"
     ]
    }
   ],
   "source": [
    "rewards = []\n",
    "for ep in range(5000):\n",
    "    done = False\n",
    "    obs = env.reset()\n",
    "    action = agent.act(obs)\n",
    "    \n",
    "    ep_rewards = 0\n",
    "    while not done:\n",
    "        next_obs, reward, done, info = env.step(action)\n",
    "\n",
    "        next_action = agent.act(next_obs)\n",
    "\n",
    "        agent.update(obs, action, reward, next_obs, next_action)\n",
    "        \n",
    "        ep_rewards += reward\n",
    "        obs = next_obs\n",
    "        action = next_action\n",
    "    rewards.append(ep_rewards)\n",
    "    if (ep+1) % 20 == 0:\n",
    "        print(\"episode: {}, rewards: {}\".format(ep+1, ep_rewards))\n",
    "env.close()"
   ]
  },
  {
   "cell_type": "code",
   "execution_count": 6,
   "id": "a086e2cd",
   "metadata": {},
   "outputs": [
    {
     "data": {
      "text/plain": [
       "{0: [0.03285, 0.03267, 0.04087],\n",
       " 12: [0.0572, 0.05709, 0.06614],\n",
       " 3: [0.02313, 0.02325, 0.03523],\n",
       " 24: [0.07714, 0.07719, 0.08166],\n",
       " 36: [0.08686, 0.08665, 0.09463],\n",
       " 15: [0.02274, 0.02147, 0.10054],\n",
       " 6: [0.02653, 0.02504, 0.0427],\n",
       " 27: [0.06391, 0.06855, 0.2127],\n",
       " 9: [0.04177, 0.04159, 0.04903],\n",
       " 18: [0.02769, 0.03527, 0.13415],\n",
       " 21: [0.13943, 0.13329, 0.17233],\n",
       " 33: [0.27347, 0.26527, 0.34036],\n",
       " 45: [0.0, 0.0, 0.0],\n",
       " 39: [0.33699, 0.33475, 0.37836],\n",
       " 30: [0.08328, 0.09638, 0.28628],\n",
       " 42: [0.45374, 0.45385, 0.50194]}"
      ]
     },
     "execution_count": 6,
     "metadata": {},
     "output_type": "execute_result"
    }
   ],
   "source": [
    "{s:np.round(q, 5).tolist() for s, q in agent.q_values.items()}"
   ]
  },
  {
   "cell_type": "code",
   "execution_count": 7,
   "id": "77e3015b",
   "metadata": {},
   "outputs": [
    {
     "data": {
      "text/html": [
       "<video alt=\"test\" autoplay \n",
       "                loop controls style=\"height: 400px;\">\n",
       "                <source src=\"data:video/mp4;base64,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\" type=\"video/mp4\" />\n",
       "             </video>"
      ],
      "text/plain": [
       "<IPython.core.display.HTML object>"
      ]
     },
     "metadata": {},
     "output_type": "display_data"
    }
   ],
   "source": [
    "show_video()"
   ]
  },
  {
   "cell_type": "code",
   "execution_count": 8,
   "id": "42787cff",
   "metadata": {},
   "outputs": [],
   "source": [
    "os.makedirs('./logs', exist_ok=True)\n",
    "pd.Series(rewards).to_csv('./logs/rewards_qlearning.csv')"
   ]
  },
  {
   "cell_type": "code",
   "execution_count": 9,
   "id": "da141489",
   "metadata": {},
   "outputs": [],
   "source": [
    "sarsa_logs = pd.read_csv('./logs/rewards_sarsa.csv', index_col=False).iloc[:, 1]\n",
    "q_logs = pd.read_csv('./logs/rewards_qlearning.csv', index_col=False).iloc[:, 1]"
   ]
  },
  {
   "cell_type": "code",
   "execution_count": 10,
   "id": "43dc92ab",
   "metadata": {},
   "outputs": [
    {
     "data": {
      "text/plain": [
       "<matplotlib.legend.Legend at 0x7f7e16b038b0>"
      ]
     },
     "execution_count": 10,
     "metadata": {},
     "output_type": "execute_result"
    },
    {
     "data": {
      "image/png": "[encoded data removed]",
      "text/plain": [
       "<Figure size 1600x800 with 1 Axes>"
      ]
     },
     "metadata": {},
     "output_type": "display_data"
    }
   ],
   "source": [
    "plt.figure(figsize=(16, 8))\n",
    "plt.plot(q_logs.cumsum() / (pd.Series(np.arange(q_logs.shape[0]))+1), label=\"QLearning\")\n",
    "plt.plot(sarsa_logs.cumsum() / (pd.Series(np.arange(sarsa_logs.shape[0]))+1), label=\"SARSA\")\n",
    "plt.legend()"
   ]
  },
  {
   "cell_type": "code",
   "execution_count": null,
   "id": "69d2dad1",
   "metadata": {},
   "outputs": [],
   "source": []
  },
  {
   "cell_type": "code",
   "execution_count": null,
   "id": "a1ab15f2",
   "metadata": {},
   "outputs": [],
   "source": []
  }
 ],
 "metadata": {
  "kernelspec": {
   "display_name": ".venv",
   "language": "python",
   "name": "python3"
  },
  "language_info": {
   "codemirror_mode": {
    "name": "ipython",
    "version": 3
   },
   "file_extension": ".py",
   "mimetype": "text/x-python",
   "name": "python",
   "nbconvert_exporter": "python",
   "pygments_lexer": "ipython3",
   "version": "3.10.15"
  }
 },
 "nbformat": 4,
 "nbformat_minor": 5
}
